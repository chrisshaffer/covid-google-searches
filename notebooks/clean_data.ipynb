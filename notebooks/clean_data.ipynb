{
 "metadata": {
  "language_info": {
   "codemirror_mode": {
    "name": "ipython",
    "version": 3
   },
   "file_extension": ".py",
   "mimetype": "text/x-python",
   "name": "python",
   "nbconvert_exporter": "python",
   "pygments_lexer": "ipython3",
   "version": "3.9.1"
  },
  "orig_nbformat": 2,
  "kernelspec": {
   "name": "python391jvsc74a57bd0b6514bc0d4f53b0f2587f3676c8605d39339b942f2cc28ce55a0b87701275da9",
   "display_name": "Python 3.9.1 64-bit ('base': conda)"
  },
  "metadata": {
   "interpreter": {
    "hash": "b6514bc0d4f53b0f2587f3676c8605d39339b942f2cc28ce55a0b87701275da9"
   }
  }
 },
 "nbformat": 4,
 "nbformat_minor": 2,
 "cells": [
  {
   "cell_type": "code",
   "execution_count": 1,
   "metadata": {},
   "outputs": [],
   "source": [
    "import pandas as pd\n",
    "from load_data import load_data\n",
    "from col_list import col_list\n",
    "\n",
    "dir = '~/DSI/covid-symptom-searches/data/'\n",
    "nrows=2000000\n",
    "usecols = col_list()\n",
    "\n",
    "hospitalizations, searches, index = load_data(dir,nrows,usecols)"
   ]
  },
  {
   "cell_type": "code",
   "execution_count": 2,
   "metadata": {},
   "outputs": [
    {
     "output_type": "stream",
     "name": "stdout",
     "text": [
      "(2046532, 40)\n<class 'pandas.core.frame.DataFrame'>\nInt64Index: 2046532 entries, 0 to 2046531\nData columns (total 40 columns):\n #   Column                             Dtype  \n---  ------                             -----  \n 0   date                               object \n 1   key                                object \n 2   search_trends_ageusia              float64\n 3   search_trends_angina_pectoris      float64\n 4   search_trends_anosmia              float64\n 5   search_trends_cardiac_arrest       float64\n 6   search_trends_chest_pain           float64\n 7   search_trends_chills               float64\n 8   search_trends_common_cold          float64\n 9   search_trends_confusion            float64\n 10  search_trends_cough                float64\n 11  search_trends_diarrhea             float64\n 12  search_trends_dizziness            float64\n 13  search_trends_dysgeusia            float64\n 14  search_trends_fatigue              float64\n 15  search_trends_fever                float64\n 16  search_trends_headache             float64\n 17  search_trends_hypersomnia          float64\n 18  search_trends_low_grade_fever      float64\n 19  search_trends_myalgia              float64\n 20  search_trends_nasal_congestion     float64\n 21  search_trends_nasal_polyp          float64\n 22  search_trends_nausea               float64\n 23  search_trends_pneumonia            float64\n 24  search_trends_shallow_breathing    float64\n 25  search_trends_shortness_of_breath  float64\n 26  search_trends_sleep_disorder       float64\n 27  search_trends_sore_throat          float64\n 28  search_trends_vertigo              float64\n 29  search_trends_viral_pneumonia      float64\n 30  search_trends_vomiting             float64\n 31  new_hospitalized                   float64\n 32  total_hospitalized                 float64\n 33  current_hospitalized               float64\n 34  new_intensive_care                 float64\n 35  total_intensive_care               float64\n 36  current_intensive_care             float64\n 37  new_ventilator                     float64\n 38  total_ventilator                   float64\n 39  current_ventilator                 float64\ndtypes: float64(38), object(2)\nmemory usage: 640.2+ MB\n"
     ]
    }
   ],
   "source": [
    "# Defining joined table\n",
    "df = pd.merge(searches,hospitalizations, how='outer', on = ['key','date'])\n",
    "df.fillna(0,inplace=True)\n",
    "print(df.shape)\n",
    "df.info()"
   ]
  },
  {
   "cell_type": "code",
   "execution_count": 3,
   "metadata": {},
   "outputs": [
    {
     "output_type": "execute_result",
     "data": {
      "text/plain": [
       "         date     key  search_trends_ageusia  search_trends_angina_pectoris  \\\n",
       "0  2020-01-01      AU                   0.05                           0.61   \n",
       "1  2020-01-01  AU_ACT                   0.00                           0.00   \n",
       "2  2020-01-01  AU_NSW                   0.00                           0.58   \n",
       "3  2020-01-01   AU_NT                   0.00                           0.00   \n",
       "4  2020-01-01  AU_QLD                   0.09                           0.47   \n",
       "\n",
       "   search_trends_anosmia  search_trends_cardiac_arrest  \\\n",
       "0                   0.06                          0.41   \n",
       "1                   0.00                          0.00   \n",
       "2                   0.00                          1.27   \n",
       "3                   0.00                          0.00   \n",
       "4                   0.00                          0.42   \n",
       "\n",
       "   search_trends_chest_pain  search_trends_chills  search_trends_common_cold  \\\n",
       "0                      1.44                  0.23                       8.29   \n",
       "1                      1.21                  0.00                       7.25   \n",
       "2                      1.78                  0.25                       8.79   \n",
       "3                      0.00                  0.00                      11.79   \n",
       "4                      1.05                  0.36                      10.44   \n",
       "\n",
       "   search_trends_confusion  ...  search_trends_vomiting  new_hospitalized  \\\n",
       "0                     0.27  ...                    4.23               0.0   \n",
       "1                     0.00  ...                    4.08               0.0   \n",
       "2                     0.27  ...                    4.57               0.0   \n",
       "3                     0.00  ...                    5.47               0.0   \n",
       "4                     0.31  ...                    3.47               0.0   \n",
       "\n",
       "   total_hospitalized  current_hospitalized  new_intensive_care  \\\n",
       "0                 0.0                   0.0                 0.0   \n",
       "1                 0.0                   0.0                 0.0   \n",
       "2                 0.0                   0.0                 0.0   \n",
       "3                 0.0                   0.0                 0.0   \n",
       "4                 0.0                   0.0                 0.0   \n",
       "\n",
       "   total_intensive_care  current_intensive_care  new_ventilator  \\\n",
       "0                   0.0                     0.0             0.0   \n",
       "1                   0.0                     0.0             0.0   \n",
       "2                   0.0                     0.0             0.0   \n",
       "3                   0.0                     0.0             0.0   \n",
       "4                   0.0                     0.0             0.0   \n",
       "\n",
       "   total_ventilator  current_ventilator  \n",
       "0               0.0                 0.0  \n",
       "1               0.0                 0.0  \n",
       "2               0.0                 0.0  \n",
       "3               0.0                 0.0  \n",
       "4               0.0                 0.0  \n",
       "\n",
       "[5 rows x 40 columns]"
      ],
      "text/html": "<div>\n<style scoped>\n    .dataframe tbody tr th:only-of-type {\n        vertical-align: middle;\n    }\n\n    .dataframe tbody tr th {\n        vertical-align: top;\n    }\n\n    .dataframe thead th {\n        text-align: right;\n    }\n</style>\n<table border=\"1\" class=\"dataframe\">\n  <thead>\n    <tr style=\"text-align: right;\">\n      <th></th>\n      <th>date</th>\n      <th>key</th>\n      <th>search_trends_ageusia</th>\n      <th>search_trends_angina_pectoris</th>\n      <th>search_trends_anosmia</th>\n      <th>search_trends_cardiac_arrest</th>\n      <th>search_trends_chest_pain</th>\n      <th>search_trends_chills</th>\n      <th>search_trends_common_cold</th>\n      <th>search_trends_confusion</th>\n      <th>...</th>\n      <th>search_trends_vomiting</th>\n      <th>new_hospitalized</th>\n      <th>total_hospitalized</th>\n      <th>current_hospitalized</th>\n      <th>new_intensive_care</th>\n      <th>total_intensive_care</th>\n      <th>current_intensive_care</th>\n      <th>new_ventilator</th>\n      <th>total_ventilator</th>\n      <th>current_ventilator</th>\n    </tr>\n  </thead>\n  <tbody>\n    <tr>\n      <th>0</th>\n      <td>2020-01-01</td>\n      <td>AU</td>\n      <td>0.05</td>\n      <td>0.61</td>\n      <td>0.06</td>\n      <td>0.41</td>\n      <td>1.44</td>\n      <td>0.23</td>\n      <td>8.29</td>\n      <td>0.27</td>\n      <td>...</td>\n      <td>4.23</td>\n      <td>0.0</td>\n      <td>0.0</td>\n      <td>0.0</td>\n      <td>0.0</td>\n      <td>0.0</td>\n      <td>0.0</td>\n      <td>0.0</td>\n      <td>0.0</td>\n      <td>0.0</td>\n    </tr>\n    <tr>\n      <th>1</th>\n      <td>2020-01-01</td>\n      <td>AU_ACT</td>\n      <td>0.00</td>\n      <td>0.00</td>\n      <td>0.00</td>\n      <td>0.00</td>\n      <td>1.21</td>\n      <td>0.00</td>\n      <td>7.25</td>\n      <td>0.00</td>\n      <td>...</td>\n      <td>4.08</td>\n      <td>0.0</td>\n      <td>0.0</td>\n      <td>0.0</td>\n      <td>0.0</td>\n      <td>0.0</td>\n      <td>0.0</td>\n      <td>0.0</td>\n      <td>0.0</td>\n      <td>0.0</td>\n    </tr>\n    <tr>\n      <th>2</th>\n      <td>2020-01-01</td>\n      <td>AU_NSW</td>\n      <td>0.00</td>\n      <td>0.58</td>\n      <td>0.00</td>\n      <td>1.27</td>\n      <td>1.78</td>\n      <td>0.25</td>\n      <td>8.79</td>\n      <td>0.27</td>\n      <td>...</td>\n      <td>4.57</td>\n      <td>0.0</td>\n      <td>0.0</td>\n      <td>0.0</td>\n      <td>0.0</td>\n      <td>0.0</td>\n      <td>0.0</td>\n      <td>0.0</td>\n      <td>0.0</td>\n      <td>0.0</td>\n    </tr>\n    <tr>\n      <th>3</th>\n      <td>2020-01-01</td>\n      <td>AU_NT</td>\n      <td>0.00</td>\n      <td>0.00</td>\n      <td>0.00</td>\n      <td>0.00</td>\n      <td>0.00</td>\n      <td>0.00</td>\n      <td>11.79</td>\n      <td>0.00</td>\n      <td>...</td>\n      <td>5.47</td>\n      <td>0.0</td>\n      <td>0.0</td>\n      <td>0.0</td>\n      <td>0.0</td>\n      <td>0.0</td>\n      <td>0.0</td>\n      <td>0.0</td>\n      <td>0.0</td>\n      <td>0.0</td>\n    </tr>\n    <tr>\n      <th>4</th>\n      <td>2020-01-01</td>\n      <td>AU_QLD</td>\n      <td>0.09</td>\n      <td>0.47</td>\n      <td>0.00</td>\n      <td>0.42</td>\n      <td>1.05</td>\n      <td>0.36</td>\n      <td>10.44</td>\n      <td>0.31</td>\n      <td>...</td>\n      <td>3.47</td>\n      <td>0.0</td>\n      <td>0.0</td>\n      <td>0.0</td>\n      <td>0.0</td>\n      <td>0.0</td>\n      <td>0.0</td>\n      <td>0.0</td>\n      <td>0.0</td>\n      <td>0.0</td>\n    </tr>\n  </tbody>\n</table>\n<p>5 rows × 40 columns</p>\n</div>"
     },
     "metadata": {},
     "execution_count": 3
    }
   ],
   "source": [
    "df.head()"
   ]
  }
 ]
}