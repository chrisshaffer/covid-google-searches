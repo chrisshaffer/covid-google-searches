{
 "metadata": {
  "language_info": {
   "codemirror_mode": {
    "name": "ipython",
    "version": 3
   },
   "file_extension": ".py",
   "mimetype": "text/x-python",
   "name": "python",
   "nbconvert_exporter": "python",
   "pygments_lexer": "ipython3",
   "version": "3.9.1"
  },
  "orig_nbformat": 2,
  "kernelspec": {
   "name": "python391jvsc74a57bd0b6514bc0d4f53b0f2587f3676c8605d39339b942f2cc28ce55a0b87701275da9",
   "display_name": "Python 3.9.1 64-bit ('base': conda)"
  },
  "metadata": {
   "interpreter": {
    "hash": "b6514bc0d4f53b0f2587f3676c8605d39339b942f2cc28ce55a0b87701275da9"
   }
  }
 },
 "nbformat": 4,
 "nbformat_minor": 2,
 "cells": [
  {
   "cell_type": "code",
   "execution_count": 20,
   "metadata": {},
   "outputs": [],
   "source": [
    "import pandas as pd\n",
    "from load_data import load_data\n",
    "from col_list import col_list\n",
    "\n",
    "dir = '~/DSI/covid-symptom-searches/data/'\n",
    "nrows=2000000\n",
    "usecols = col_list()\n",
    "\n",
    "hospitalizations, searches, index = load_data(dir,nrows,usecols)"
   ]
  },
  {
   "cell_type": "code",
   "execution_count": 21,
   "metadata": {},
   "outputs": [
    {
     "output_type": "stream",
     "name": "stdout",
     "text": [
      "(643715, 11)\n"
     ]
    },
    {
     "output_type": "execute_result",
     "data": {
      "text/plain": [
       "       new_hospitalized  total_hospitalized  current_hospitalized  \\\n",
       "count     574900.000000       566891.000000          86040.000000   \n",
       "mean          11.153307         2461.954023            862.837913   \n",
       "std          106.307261        21230.490066           2783.470133   \n",
       "min       -12257.000000            0.000000              0.000000   \n",
       "25%            0.000000           15.000000             49.000000   \n",
       "50%            1.000000           48.000000            178.000000   \n",
       "75%            2.000000          254.000000            601.000000   \n",
       "max        16373.000000       696248.000000          39249.000000   \n",
       "\n",
       "       new_intensive_care  total_intensive_care  current_intensive_care  \\\n",
       "count       329297.000000         330261.000000            85355.000000   \n",
       "mean             2.760921            625.491575              128.188694   \n",
       "std             25.078235           6269.797362              401.800119   \n",
       "min           -126.000000              0.000000                0.000000   \n",
       "25%              0.000000              3.000000                5.000000   \n",
       "50%              0.000000             15.000000               21.000000   \n",
       "75%              1.000000             91.000000               87.000000   \n",
       "max           1051.000000         216788.000000             7148.000000   \n",
       "\n",
       "       new_ventilator  total_ventilator  current_ventilator  \n",
       "count     6023.000000       5007.000000        17161.000000  \n",
       "mean         0.661464        155.341722          153.868539  \n",
       "std          2.751791        331.386792          362.582747  \n",
       "min        -24.000000          0.000000            0.000000  \n",
       "25%          0.000000          2.000000           14.000000  \n",
       "50%          0.000000          8.000000           49.000000  \n",
       "75%          1.000000         83.500000          134.000000  \n",
       "max         69.000000       1533.000000         4077.000000  "
      ],
      "text/html": "<div>\n<style scoped>\n    .dataframe tbody tr th:only-of-type {\n        vertical-align: middle;\n    }\n\n    .dataframe tbody tr th {\n        vertical-align: top;\n    }\n\n    .dataframe thead th {\n        text-align: right;\n    }\n</style>\n<table border=\"1\" class=\"dataframe\">\n  <thead>\n    <tr style=\"text-align: right;\">\n      <th></th>\n      <th>new_hospitalized</th>\n      <th>total_hospitalized</th>\n      <th>current_hospitalized</th>\n      <th>new_intensive_care</th>\n      <th>total_intensive_care</th>\n      <th>current_intensive_care</th>\n      <th>new_ventilator</th>\n      <th>total_ventilator</th>\n      <th>current_ventilator</th>\n    </tr>\n  </thead>\n  <tbody>\n    <tr>\n      <th>count</th>\n      <td>574900.000000</td>\n      <td>566891.000000</td>\n      <td>86040.000000</td>\n      <td>329297.000000</td>\n      <td>330261.000000</td>\n      <td>85355.000000</td>\n      <td>6023.000000</td>\n      <td>5007.000000</td>\n      <td>17161.000000</td>\n    </tr>\n    <tr>\n      <th>mean</th>\n      <td>11.153307</td>\n      <td>2461.954023</td>\n      <td>862.837913</td>\n      <td>2.760921</td>\n      <td>625.491575</td>\n      <td>128.188694</td>\n      <td>0.661464</td>\n      <td>155.341722</td>\n      <td>153.868539</td>\n    </tr>\n    <tr>\n      <th>std</th>\n      <td>106.307261</td>\n      <td>21230.490066</td>\n      <td>2783.470133</td>\n      <td>25.078235</td>\n      <td>6269.797362</td>\n      <td>401.800119</td>\n      <td>2.751791</td>\n      <td>331.386792</td>\n      <td>362.582747</td>\n    </tr>\n    <tr>\n      <th>min</th>\n      <td>-12257.000000</td>\n      <td>0.000000</td>\n      <td>0.000000</td>\n      <td>-126.000000</td>\n      <td>0.000000</td>\n      <td>0.000000</td>\n      <td>-24.000000</td>\n      <td>0.000000</td>\n      <td>0.000000</td>\n    </tr>\n    <tr>\n      <th>25%</th>\n      <td>0.000000</td>\n      <td>15.000000</td>\n      <td>49.000000</td>\n      <td>0.000000</td>\n      <td>3.000000</td>\n      <td>5.000000</td>\n      <td>0.000000</td>\n      <td>2.000000</td>\n      <td>14.000000</td>\n    </tr>\n    <tr>\n      <th>50%</th>\n      <td>1.000000</td>\n      <td>48.000000</td>\n      <td>178.000000</td>\n      <td>0.000000</td>\n      <td>15.000000</td>\n      <td>21.000000</td>\n      <td>0.000000</td>\n      <td>8.000000</td>\n      <td>49.000000</td>\n    </tr>\n    <tr>\n      <th>75%</th>\n      <td>2.000000</td>\n      <td>254.000000</td>\n      <td>601.000000</td>\n      <td>1.000000</td>\n      <td>91.000000</td>\n      <td>87.000000</td>\n      <td>1.000000</td>\n      <td>83.500000</td>\n      <td>134.000000</td>\n    </tr>\n    <tr>\n      <th>max</th>\n      <td>16373.000000</td>\n      <td>696248.000000</td>\n      <td>39249.000000</td>\n      <td>1051.000000</td>\n      <td>216788.000000</td>\n      <td>7148.000000</td>\n      <td>69.000000</td>\n      <td>1533.000000</td>\n      <td>4077.000000</td>\n    </tr>\n  </tbody>\n</table>\n</div>"
     },
     "metadata": {},
     "execution_count": 21
    }
   ],
   "source": [
    "# Explore hospitalizations\n",
    "df = hospitalizations\n",
    "print(df.shape)                    \n",
    "df.describe()"
   ]
  },
  {
   "cell_type": "code",
   "execution_count": 22,
   "metadata": {},
   "outputs": [
    {
     "output_type": "stream",
     "name": "stdout",
     "text": [
      "<class 'pandas.core.frame.DataFrame'>\nRangeIndex: 643715 entries, 0 to 643714\nData columns (total 11 columns):\n #   Column                  Non-Null Count   Dtype  \n---  ------                  --------------   -----  \n 0   date                    643715 non-null  object \n 1   key                     643715 non-null  object \n 2   new_hospitalized        574900 non-null  float64\n 3   total_hospitalized      566891 non-null  float64\n 4   current_hospitalized    86040 non-null   float64\n 5   new_intensive_care      329297 non-null  float64\n 6   total_intensive_care    330261 non-null  float64\n 7   current_intensive_care  85355 non-null   float64\n 8   new_ventilator          6023 non-null    float64\n 9   total_ventilator        5007 non-null    float64\n 10  current_ventilator      17161 non-null   float64\ndtypes: float64(9), object(2)\nmemory usage: 54.0+ MB\n"
     ]
    }
   ],
   "source": [
    "df.info()"
   ]
  },
  {
   "cell_type": "code",
   "execution_count": 23,
   "metadata": {},
   "outputs": [
    {
     "output_type": "stream",
     "name": "stdout",
     "text": [
      "['date', 'key', 'new_hospitalized', 'total_hospitalized', 'current_hospitalized', 'new_intensive_care', 'total_intensive_care', 'current_intensive_care', 'new_ventilator', 'total_ventilator', 'current_ventilator']\n"
     ]
    },
    {
     "output_type": "execute_result",
     "data": {
      "text/plain": [
       "         date    key  new_hospitalized  total_hospitalized  \\\n",
       "0  2019-12-31     TH               0.0                 0.0   \n",
       "1  2020-01-01     ES               8.0                 8.0   \n",
       "2  2020-01-01  ES_AN               3.0                 3.0   \n",
       "3  2020-01-01  ES_AR               0.0                 0.0   \n",
       "4  2020-01-01  ES_AS               0.0                 0.0   \n",
       "\n",
       "   current_hospitalized  new_intensive_care  total_intensive_care  \\\n",
       "0                   NaN                 NaN                   NaN   \n",
       "1                   NaN                 0.0                   0.0   \n",
       "2                   NaN                 0.0                   0.0   \n",
       "3                   NaN                 0.0                   0.0   \n",
       "4                   NaN                 0.0                   0.0   \n",
       "\n",
       "   current_intensive_care  new_ventilator  total_ventilator  \\\n",
       "0                     NaN             NaN               NaN   \n",
       "1                     NaN             NaN               NaN   \n",
       "2                     NaN             NaN               NaN   \n",
       "3                     NaN             NaN               NaN   \n",
       "4                     NaN             NaN               NaN   \n",
       "\n",
       "   current_ventilator  \n",
       "0                 NaN  \n",
       "1                 NaN  \n",
       "2                 NaN  \n",
       "3                 NaN  \n",
       "4                 NaN  "
      ],
      "text/html": "<div>\n<style scoped>\n    .dataframe tbody tr th:only-of-type {\n        vertical-align: middle;\n    }\n\n    .dataframe tbody tr th {\n        vertical-align: top;\n    }\n\n    .dataframe thead th {\n        text-align: right;\n    }\n</style>\n<table border=\"1\" class=\"dataframe\">\n  <thead>\n    <tr style=\"text-align: right;\">\n      <th></th>\n      <th>date</th>\n      <th>key</th>\n      <th>new_hospitalized</th>\n      <th>total_hospitalized</th>\n      <th>current_hospitalized</th>\n      <th>new_intensive_care</th>\n      <th>total_intensive_care</th>\n      <th>current_intensive_care</th>\n      <th>new_ventilator</th>\n      <th>total_ventilator</th>\n      <th>current_ventilator</th>\n    </tr>\n  </thead>\n  <tbody>\n    <tr>\n      <th>0</th>\n      <td>2019-12-31</td>\n      <td>TH</td>\n      <td>0.0</td>\n      <td>0.0</td>\n      <td>NaN</td>\n      <td>NaN</td>\n      <td>NaN</td>\n      <td>NaN</td>\n      <td>NaN</td>\n      <td>NaN</td>\n      <td>NaN</td>\n    </tr>\n    <tr>\n      <th>1</th>\n      <td>2020-01-01</td>\n      <td>ES</td>\n      <td>8.0</td>\n      <td>8.0</td>\n      <td>NaN</td>\n      <td>0.0</td>\n      <td>0.0</td>\n      <td>NaN</td>\n      <td>NaN</td>\n      <td>NaN</td>\n      <td>NaN</td>\n    </tr>\n    <tr>\n      <th>2</th>\n      <td>2020-01-01</td>\n      <td>ES_AN</td>\n      <td>3.0</td>\n      <td>3.0</td>\n      <td>NaN</td>\n      <td>0.0</td>\n      <td>0.0</td>\n      <td>NaN</td>\n      <td>NaN</td>\n      <td>NaN</td>\n      <td>NaN</td>\n    </tr>\n    <tr>\n      <th>3</th>\n      <td>2020-01-01</td>\n      <td>ES_AR</td>\n      <td>0.0</td>\n      <td>0.0</td>\n      <td>NaN</td>\n      <td>0.0</td>\n      <td>0.0</td>\n      <td>NaN</td>\n      <td>NaN</td>\n      <td>NaN</td>\n      <td>NaN</td>\n    </tr>\n    <tr>\n      <th>4</th>\n      <td>2020-01-01</td>\n      <td>ES_AS</td>\n      <td>0.0</td>\n      <td>0.0</td>\n      <td>NaN</td>\n      <td>0.0</td>\n      <td>0.0</td>\n      <td>NaN</td>\n      <td>NaN</td>\n      <td>NaN</td>\n      <td>NaN</td>\n    </tr>\n  </tbody>\n</table>\n</div>"
     },
     "metadata": {},
     "execution_count": 23
    }
   ],
   "source": [
    "print(list(df.columns))\n",
    "df.head() # for hospitalizations"
   ]
  },
  {
   "cell_type": "code",
   "execution_count": 24,
   "metadata": {},
   "outputs": [
    {
     "output_type": "stream",
     "name": "stdout",
     "text": [
      "(1425194, 31)\n"
     ]
    },
    {
     "output_type": "execute_result",
     "data": {
      "text/plain": [
       "       search_trends_ageusia  search_trends_angina_pectoris  \\\n",
       "count           59893.000000                  272742.000000   \n",
       "mean                0.161430                       0.751885   \n",
       "std                 0.126738                       0.227578   \n",
       "min                 0.020000                       0.100000   \n",
       "25%                 0.090000                       0.600000   \n",
       "50%                 0.120000                       0.720000   \n",
       "75%                 0.190000                       0.870000   \n",
       "max                 2.800000                       4.090000   \n",
       "\n",
       "       search_trends_anosmia  search_trends_cardiac_arrest  \\\n",
       "count           71141.000000                 195766.000000   \n",
       "mean                0.207370                      0.470911   \n",
       "std                 0.189201                      0.158972   \n",
       "min                 0.020000                      0.070000   \n",
       "25%                 0.110000                      0.370000   \n",
       "50%                 0.160000                      0.450000   \n",
       "75%                 0.240000                      0.550000   \n",
       "max                 6.570000                     10.650000   \n",
       "\n",
       "       search_trends_chest_pain  search_trends_chills  \\\n",
       "count             416475.000000         156531.000000   \n",
       "mean                   1.426998              0.325521   \n",
       "std                    0.379100              0.134389   \n",
       "min                    0.170000              0.060000   \n",
       "25%                    1.180000              0.240000   \n",
       "50%                    1.370000              0.300000   \n",
       "75%                    1.620000              0.380000   \n",
       "max                   10.720000              3.290000   \n",
       "\n",
       "       search_trends_common_cold  search_trends_confusion  \\\n",
       "count               1.018393e+06            135875.000000   \n",
       "mean                1.088238e+01                 0.273550   \n",
       "std                 7.455210e+00                 0.133758   \n",
       "min                 1.160000e+00                 0.070000   \n",
       "25%                 6.560000e+00                 0.210000   \n",
       "50%                 8.250000e+00                 0.260000   \n",
       "75%                 1.178000e+01                 0.310000   \n",
       "max                 9.138000e+01                 4.540000   \n",
       "\n",
       "       search_trends_cough  search_trends_diarrhea  ...  \\\n",
       "count        752817.000000           723147.000000  ...   \n",
       "mean              5.062569                3.956908  ...   \n",
       "std               2.636611                0.991382  ...   \n",
       "min               0.580000                0.790000  ...   \n",
       "25%               3.320000                3.320000  ...   \n",
       "50%               4.210000                3.840000  ...   \n",
       "75%               5.930000                4.460000  ...   \n",
       "max              53.140000               49.700000  ...   \n",
       "\n",
       "       search_trends_nasal_polyp  search_trends_nausea  \\\n",
       "count               58792.000000         486733.000000   \n",
       "mean                    0.106697              2.016917   \n",
       "std                     0.039968              0.496142   \n",
       "min                     0.030000              0.350000   \n",
       "25%                     0.080000              1.690000   \n",
       "50%                     0.100000              1.960000   \n",
       "75%                     0.120000              2.290000   \n",
       "max                     3.000000              7.110000   \n",
       "\n",
       "       search_trends_pneumonia  search_trends_shallow_breathing  \\\n",
       "count            358216.000000                     39905.000000   \n",
       "mean                  1.265277                         0.075952   \n",
       "std                   0.697219                         0.038483   \n",
       "min                   0.100000                         0.020000   \n",
       "25%                   0.810000                         0.060000   \n",
       "50%                   1.050000                         0.070000   \n",
       "75%                   1.500000                         0.080000   \n",
       "max                  32.820000                         2.310000   \n",
       "\n",
       "       search_trends_shortness_of_breath  search_trends_sleep_disorder  \\\n",
       "count                      304772.000000                 514164.000000   \n",
       "mean                            0.834168                      2.264202   \n",
       "std                             0.300667                      0.542279   \n",
       "min                             0.110000                      0.410000   \n",
       "25%                             0.650000                      1.910000   \n",
       "50%                             0.770000                      2.220000   \n",
       "75%                             0.930000                      2.560000   \n",
       "max                            13.570000                     10.780000   \n",
       "\n",
       "       search_trends_sore_throat  search_trends_vertigo  \\\n",
       "count              441089.000000          357238.000000   \n",
       "mean                    1.774974               1.125797   \n",
       "std                     0.715618               0.305249   \n",
       "min                     0.220000               0.150000   \n",
       "25%                     1.290000               0.930000   \n",
       "50%                     1.590000               1.080000   \n",
       "75%                     2.090000               1.270000   \n",
       "max                    12.350000               5.310000   \n",
       "\n",
       "       search_trends_viral_pneumonia  search_trends_vomiting  \n",
       "count                   29324.000000           567104.000000  \n",
       "mean                        0.080790                2.651997  \n",
       "std                         0.059879                0.746392  \n",
       "min                         0.010000                0.480000  \n",
       "25%                         0.040000                2.160000  \n",
       "50%                         0.060000                2.540000  \n",
       "75%                         0.100000                3.040000  \n",
       "max                         2.140000               50.690000  \n",
       "\n",
       "[8 rows x 29 columns]"
      ],
      "text/html": "<div>\n<style scoped>\n    .dataframe tbody tr th:only-of-type {\n        vertical-align: middle;\n    }\n\n    .dataframe tbody tr th {\n        vertical-align: top;\n    }\n\n    .dataframe thead th {\n        text-align: right;\n    }\n</style>\n<table border=\"1\" class=\"dataframe\">\n  <thead>\n    <tr style=\"text-align: right;\">\n      <th></th>\n      <th>search_trends_ageusia</th>\n      <th>search_trends_angina_pectoris</th>\n      <th>search_trends_anosmia</th>\n      <th>search_trends_cardiac_arrest</th>\n      <th>search_trends_chest_pain</th>\n      <th>search_trends_chills</th>\n      <th>search_trends_common_cold</th>\n      <th>search_trends_confusion</th>\n      <th>search_trends_cough</th>\n      <th>search_trends_diarrhea</th>\n      <th>...</th>\n      <th>search_trends_nasal_polyp</th>\n      <th>search_trends_nausea</th>\n      <th>search_trends_pneumonia</th>\n      <th>search_trends_shallow_breathing</th>\n      <th>search_trends_shortness_of_breath</th>\n      <th>search_trends_sleep_disorder</th>\n      <th>search_trends_sore_throat</th>\n      <th>search_trends_vertigo</th>\n      <th>search_trends_viral_pneumonia</th>\n      <th>search_trends_vomiting</th>\n    </tr>\n  </thead>\n  <tbody>\n    <tr>\n      <th>count</th>\n      <td>59893.000000</td>\n      <td>272742.000000</td>\n      <td>71141.000000</td>\n      <td>195766.000000</td>\n      <td>416475.000000</td>\n      <td>156531.000000</td>\n      <td>1.018393e+06</td>\n      <td>135875.000000</td>\n      <td>752817.000000</td>\n      <td>723147.000000</td>\n      <td>...</td>\n      <td>58792.000000</td>\n      <td>486733.000000</td>\n      <td>358216.000000</td>\n      <td>39905.000000</td>\n      <td>304772.000000</td>\n      <td>514164.000000</td>\n      <td>441089.000000</td>\n      <td>357238.000000</td>\n      <td>29324.000000</td>\n      <td>567104.000000</td>\n    </tr>\n    <tr>\n      <th>mean</th>\n      <td>0.161430</td>\n      <td>0.751885</td>\n      <td>0.207370</td>\n      <td>0.470911</td>\n      <td>1.426998</td>\n      <td>0.325521</td>\n      <td>1.088238e+01</td>\n      <td>0.273550</td>\n      <td>5.062569</td>\n      <td>3.956908</td>\n      <td>...</td>\n      <td>0.106697</td>\n      <td>2.016917</td>\n      <td>1.265277</td>\n      <td>0.075952</td>\n      <td>0.834168</td>\n      <td>2.264202</td>\n      <td>1.774974</td>\n      <td>1.125797</td>\n      <td>0.080790</td>\n      <td>2.651997</td>\n    </tr>\n    <tr>\n      <th>std</th>\n      <td>0.126738</td>\n      <td>0.227578</td>\n      <td>0.189201</td>\n      <td>0.158972</td>\n      <td>0.379100</td>\n      <td>0.134389</td>\n      <td>7.455210e+00</td>\n      <td>0.133758</td>\n      <td>2.636611</td>\n      <td>0.991382</td>\n      <td>...</td>\n      <td>0.039968</td>\n      <td>0.496142</td>\n      <td>0.697219</td>\n      <td>0.038483</td>\n      <td>0.300667</td>\n      <td>0.542279</td>\n      <td>0.715618</td>\n      <td>0.305249</td>\n      <td>0.059879</td>\n      <td>0.746392</td>\n    </tr>\n    <tr>\n      <th>min</th>\n      <td>0.020000</td>\n      <td>0.100000</td>\n      <td>0.020000</td>\n      <td>0.070000</td>\n      <td>0.170000</td>\n      <td>0.060000</td>\n      <td>1.160000e+00</td>\n      <td>0.070000</td>\n      <td>0.580000</td>\n      <td>0.790000</td>\n      <td>...</td>\n      <td>0.030000</td>\n      <td>0.350000</td>\n      <td>0.100000</td>\n      <td>0.020000</td>\n      <td>0.110000</td>\n      <td>0.410000</td>\n      <td>0.220000</td>\n      <td>0.150000</td>\n      <td>0.010000</td>\n      <td>0.480000</td>\n    </tr>\n    <tr>\n      <th>25%</th>\n      <td>0.090000</td>\n      <td>0.600000</td>\n      <td>0.110000</td>\n      <td>0.370000</td>\n      <td>1.180000</td>\n      <td>0.240000</td>\n      <td>6.560000e+00</td>\n      <td>0.210000</td>\n      <td>3.320000</td>\n      <td>3.320000</td>\n      <td>...</td>\n      <td>0.080000</td>\n      <td>1.690000</td>\n      <td>0.810000</td>\n      <td>0.060000</td>\n      <td>0.650000</td>\n      <td>1.910000</td>\n      <td>1.290000</td>\n      <td>0.930000</td>\n      <td>0.040000</td>\n      <td>2.160000</td>\n    </tr>\n    <tr>\n      <th>50%</th>\n      <td>0.120000</td>\n      <td>0.720000</td>\n      <td>0.160000</td>\n      <td>0.450000</td>\n      <td>1.370000</td>\n      <td>0.300000</td>\n      <td>8.250000e+00</td>\n      <td>0.260000</td>\n      <td>4.210000</td>\n      <td>3.840000</td>\n      <td>...</td>\n      <td>0.100000</td>\n      <td>1.960000</td>\n      <td>1.050000</td>\n      <td>0.070000</td>\n      <td>0.770000</td>\n      <td>2.220000</td>\n      <td>1.590000</td>\n      <td>1.080000</td>\n      <td>0.060000</td>\n      <td>2.540000</td>\n    </tr>\n    <tr>\n      <th>75%</th>\n      <td>0.190000</td>\n      <td>0.870000</td>\n      <td>0.240000</td>\n      <td>0.550000</td>\n      <td>1.620000</td>\n      <td>0.380000</td>\n      <td>1.178000e+01</td>\n      <td>0.310000</td>\n      <td>5.930000</td>\n      <td>4.460000</td>\n      <td>...</td>\n      <td>0.120000</td>\n      <td>2.290000</td>\n      <td>1.500000</td>\n      <td>0.080000</td>\n      <td>0.930000</td>\n      <td>2.560000</td>\n      <td>2.090000</td>\n      <td>1.270000</td>\n      <td>0.100000</td>\n      <td>3.040000</td>\n    </tr>\n    <tr>\n      <th>max</th>\n      <td>2.800000</td>\n      <td>4.090000</td>\n      <td>6.570000</td>\n      <td>10.650000</td>\n      <td>10.720000</td>\n      <td>3.290000</td>\n      <td>9.138000e+01</td>\n      <td>4.540000</td>\n      <td>53.140000</td>\n      <td>49.700000</td>\n      <td>...</td>\n      <td>3.000000</td>\n      <td>7.110000</td>\n      <td>32.820000</td>\n      <td>2.310000</td>\n      <td>13.570000</td>\n      <td>10.780000</td>\n      <td>12.350000</td>\n      <td>5.310000</td>\n      <td>2.140000</td>\n      <td>50.690000</td>\n    </tr>\n  </tbody>\n</table>\n<p>8 rows × 29 columns</p>\n</div>"
     },
     "metadata": {},
     "execution_count": 24
    }
   ],
   "source": [
    "# Explore searches\n",
    "df = searches\n",
    "print(df.shape)                    \n",
    "df.describe()"
   ]
  },
  {
   "cell_type": "code",
   "execution_count": 25,
   "metadata": {},
   "outputs": [
    {
     "output_type": "stream",
     "name": "stdout",
     "text": [
      "<class 'pandas.core.frame.DataFrame'>\nRangeIndex: 1425194 entries, 0 to 1425193\nData columns (total 31 columns):\n #   Column                             Non-Null Count    Dtype  \n---  ------                             --------------    -----  \n 0   date                               1425194 non-null  object \n 1   key                                1425194 non-null  object \n 2   search_trends_ageusia              59893 non-null    float64\n 3   search_trends_angina_pectoris      272742 non-null   float64\n 4   search_trends_anosmia              71141 non-null    float64\n 5   search_trends_cardiac_arrest       195766 non-null   float64\n 6   search_trends_chest_pain           416475 non-null   float64\n 7   search_trends_chills               156531 non-null   float64\n 8   search_trends_common_cold          1018393 non-null  float64\n 9   search_trends_confusion            135875 non-null   float64\n 10  search_trends_cough                752817 non-null   float64\n 11  search_trends_diarrhea             723147 non-null   float64\n 12  search_trends_dizziness            434030 non-null   float64\n 13  search_trends_dysgeusia            74784 non-null    float64\n 14  search_trends_fatigue              769407 non-null   float64\n 15  search_trends_fever                746803 non-null   float64\n 16  search_trends_headache             743612 non-null   float64\n 17  search_trends_hypersomnia          57051 non-null    float64\n 18  search_trends_low_grade_fever      130866 non-null   float64\n 19  search_trends_myalgia              231139 non-null   float64\n 20  search_trends_nasal_congestion     398090 non-null   float64\n 21  search_trends_nasal_polyp          58792 non-null    float64\n 22  search_trends_nausea               486733 non-null   float64\n 23  search_trends_pneumonia            358216 non-null   float64\n 24  search_trends_shallow_breathing    39905 non-null    float64\n 25  search_trends_shortness_of_breath  304772 non-null   float64\n 26  search_trends_sleep_disorder       514164 non-null   float64\n 27  search_trends_sore_throat          441089 non-null   float64\n 28  search_trends_vertigo              357238 non-null   float64\n 29  search_trends_viral_pneumonia      29324 non-null    float64\n 30  search_trends_vomiting             567104 non-null   float64\ndtypes: float64(29), object(2)\nmemory usage: 337.1+ MB\n"
     ]
    }
   ],
   "source": [
    "df.info()"
   ]
  },
  {
   "cell_type": "code",
   "execution_count": 26,
   "metadata": {},
   "outputs": [
    {
     "output_type": "execute_result",
     "data": {
      "text/plain": [
       "         date     key  search_trends_ageusia  search_trends_angina_pectoris  \\\n",
       "0  2020-01-01      AU                   0.05                           0.61   \n",
       "1  2020-01-01  AU_ACT                    NaN                            NaN   \n",
       "2  2020-01-01  AU_NSW                    NaN                           0.58   \n",
       "3  2020-01-01   AU_NT                    NaN                            NaN   \n",
       "4  2020-01-01  AU_QLD                   0.09                           0.47   \n",
       "\n",
       "   search_trends_anosmia  search_trends_cardiac_arrest  \\\n",
       "0                   0.06                          0.41   \n",
       "1                    NaN                           NaN   \n",
       "2                    NaN                          1.27   \n",
       "3                    NaN                           NaN   \n",
       "4                    NaN                          0.42   \n",
       "\n",
       "   search_trends_chest_pain  search_trends_chills  search_trends_common_cold  \\\n",
       "0                      1.44                  0.23                       8.29   \n",
       "1                      1.21                   NaN                       7.25   \n",
       "2                      1.78                  0.25                       8.79   \n",
       "3                       NaN                   NaN                      11.79   \n",
       "4                      1.05                  0.36                      10.44   \n",
       "\n",
       "   search_trends_confusion  ...  search_trends_nasal_polyp  \\\n",
       "0                     0.27  ...                       0.12   \n",
       "1                      NaN  ...                        NaN   \n",
       "2                     0.27  ...                       0.07   \n",
       "3                      NaN  ...                        NaN   \n",
       "4                     0.31  ...                       0.14   \n",
       "\n",
       "   search_trends_nausea  search_trends_pneumonia  \\\n",
       "0                  2.78                     1.07   \n",
       "1                  2.39                     1.02   \n",
       "2                  3.56                     1.00   \n",
       "3                  3.23                     2.24   \n",
       "4                  2.38                     1.37   \n",
       "\n",
       "   search_trends_shallow_breathing  search_trends_shortness_of_breath  \\\n",
       "0                             0.08                               0.76   \n",
       "1                              NaN                               1.39   \n",
       "2                              NaN                               0.78   \n",
       "3                              NaN                                NaN   \n",
       "4                              NaN                               0.67   \n",
       "\n",
       "   search_trends_sleep_disorder  search_trends_sore_throat  \\\n",
       "0                          2.99                       2.40   \n",
       "1                          2.39                       1.72   \n",
       "2                          2.67                       2.28   \n",
       "3                          3.48                        NaN   \n",
       "4                          3.01                       2.97   \n",
       "\n",
       "   search_trends_vertigo  search_trends_viral_pneumonia  \\\n",
       "0                   1.36                           0.05   \n",
       "1                   1.29                            NaN   \n",
       "2                   1.31                           0.10   \n",
       "3                    NaN                            NaN   \n",
       "4                   1.64                           0.22   \n",
       "\n",
       "   search_trends_vomiting  \n",
       "0                    4.23  \n",
       "1                    4.08  \n",
       "2                    4.57  \n",
       "3                    5.47  \n",
       "4                    3.47  \n",
       "\n",
       "[5 rows x 31 columns]"
      ],
      "text/html": "<div>\n<style scoped>\n    .dataframe tbody tr th:only-of-type {\n        vertical-align: middle;\n    }\n\n    .dataframe tbody tr th {\n        vertical-align: top;\n    }\n\n    .dataframe thead th {\n        text-align: right;\n    }\n</style>\n<table border=\"1\" class=\"dataframe\">\n  <thead>\n    <tr style=\"text-align: right;\">\n      <th></th>\n      <th>date</th>\n      <th>key</th>\n      <th>search_trends_ageusia</th>\n      <th>search_trends_angina_pectoris</th>\n      <th>search_trends_anosmia</th>\n      <th>search_trends_cardiac_arrest</th>\n      <th>search_trends_chest_pain</th>\n      <th>search_trends_chills</th>\n      <th>search_trends_common_cold</th>\n      <th>search_trends_confusion</th>\n      <th>...</th>\n      <th>search_trends_nasal_polyp</th>\n      <th>search_trends_nausea</th>\n      <th>search_trends_pneumonia</th>\n      <th>search_trends_shallow_breathing</th>\n      <th>search_trends_shortness_of_breath</th>\n      <th>search_trends_sleep_disorder</th>\n      <th>search_trends_sore_throat</th>\n      <th>search_trends_vertigo</th>\n      <th>search_trends_viral_pneumonia</th>\n      <th>search_trends_vomiting</th>\n    </tr>\n  </thead>\n  <tbody>\n    <tr>\n      <th>0</th>\n      <td>2020-01-01</td>\n      <td>AU</td>\n      <td>0.05</td>\n      <td>0.61</td>\n      <td>0.06</td>\n      <td>0.41</td>\n      <td>1.44</td>\n      <td>0.23</td>\n      <td>8.29</td>\n      <td>0.27</td>\n      <td>...</td>\n      <td>0.12</td>\n      <td>2.78</td>\n      <td>1.07</td>\n      <td>0.08</td>\n      <td>0.76</td>\n      <td>2.99</td>\n      <td>2.40</td>\n      <td>1.36</td>\n      <td>0.05</td>\n      <td>4.23</td>\n    </tr>\n    <tr>\n      <th>1</th>\n      <td>2020-01-01</td>\n      <td>AU_ACT</td>\n      <td>NaN</td>\n      <td>NaN</td>\n      <td>NaN</td>\n      <td>NaN</td>\n      <td>1.21</td>\n      <td>NaN</td>\n      <td>7.25</td>\n      <td>NaN</td>\n      <td>...</td>\n      <td>NaN</td>\n      <td>2.39</td>\n      <td>1.02</td>\n      <td>NaN</td>\n      <td>1.39</td>\n      <td>2.39</td>\n      <td>1.72</td>\n      <td>1.29</td>\n      <td>NaN</td>\n      <td>4.08</td>\n    </tr>\n    <tr>\n      <th>2</th>\n      <td>2020-01-01</td>\n      <td>AU_NSW</td>\n      <td>NaN</td>\n      <td>0.58</td>\n      <td>NaN</td>\n      <td>1.27</td>\n      <td>1.78</td>\n      <td>0.25</td>\n      <td>8.79</td>\n      <td>0.27</td>\n      <td>...</td>\n      <td>0.07</td>\n      <td>3.56</td>\n      <td>1.00</td>\n      <td>NaN</td>\n      <td>0.78</td>\n      <td>2.67</td>\n      <td>2.28</td>\n      <td>1.31</td>\n      <td>0.10</td>\n      <td>4.57</td>\n    </tr>\n    <tr>\n      <th>3</th>\n      <td>2020-01-01</td>\n      <td>AU_NT</td>\n      <td>NaN</td>\n      <td>NaN</td>\n      <td>NaN</td>\n      <td>NaN</td>\n      <td>NaN</td>\n      <td>NaN</td>\n      <td>11.79</td>\n      <td>NaN</td>\n      <td>...</td>\n      <td>NaN</td>\n      <td>3.23</td>\n      <td>2.24</td>\n      <td>NaN</td>\n      <td>NaN</td>\n      <td>3.48</td>\n      <td>NaN</td>\n      <td>NaN</td>\n      <td>NaN</td>\n      <td>5.47</td>\n    </tr>\n    <tr>\n      <th>4</th>\n      <td>2020-01-01</td>\n      <td>AU_QLD</td>\n      <td>0.09</td>\n      <td>0.47</td>\n      <td>NaN</td>\n      <td>0.42</td>\n      <td>1.05</td>\n      <td>0.36</td>\n      <td>10.44</td>\n      <td>0.31</td>\n      <td>...</td>\n      <td>0.14</td>\n      <td>2.38</td>\n      <td>1.37</td>\n      <td>NaN</td>\n      <td>0.67</td>\n      <td>3.01</td>\n      <td>2.97</td>\n      <td>1.64</td>\n      <td>0.22</td>\n      <td>3.47</td>\n    </tr>\n  </tbody>\n</table>\n<p>5 rows × 31 columns</p>\n</div>"
     },
     "metadata": {},
     "execution_count": 26
    }
   ],
   "source": [
    "df.head() # for searches"
   ]
  },
  {
   "cell_type": "code",
   "execution_count": 27,
   "metadata": {},
   "outputs": [
    {
     "output_type": "stream",
     "name": "stdout",
     "text": [
      "(22578, 15)\n"
     ]
    }
   ],
   "source": [
    "# Explore index\n",
    "df = index\n",
    "print(df.shape)                    "
   ]
  },
  {
   "cell_type": "code",
   "execution_count": 28,
   "metadata": {},
   "outputs": [
    {
     "output_type": "execute_result",
     "data": {
      "text/plain": [
       "      key                     place_id wikidata  datacommons country_code  \\\n",
       "0      AD  ChIJlfCemC71pRIRkn_qeNc-yQc     Q228  country/AND           AD   \n",
       "1      AE  ChIJvRKrsd9IXj4RpwoIwFYv0zM     Q878  country/ARE           AE   \n",
       "2      AF  ChIJbQL_-LZu0TgReNqWvg1GtfM     Q889  country/AFG           AF   \n",
       "3  AF_BAL  ChIJWZOescNSyzgRkmVJ8fmfR3k  Q121104          NaN           AF   \n",
       "4  AF_BAM  ChIJw-bKQwDr0jgRQiw8jHsQ-HI  Q171382          NaN           AF   \n",
       "\n",
       "           country_name subregion1_code subregion1_name subregion2_code  \\\n",
       "0               Andorra             NaN             NaN             NaN   \n",
       "1  United Arab Emirates             NaN             NaN             NaN   \n",
       "2           Afghanistan             NaN             NaN             NaN   \n",
       "3           Afghanistan             BAL           Balkh             NaN   \n",
       "4           Afghanistan             BAM          Bamyan             NaN   \n",
       "\n",
       "  subregion2_name locality_code locality_name 3166-1-alpha-2 3166-1-alpha-3  \\\n",
       "0             NaN           NaN           NaN             AD            AND   \n",
       "1             NaN           NaN           NaN             AE            ARE   \n",
       "2             NaN           NaN           NaN             AF            AFG   \n",
       "3             NaN           NaN           NaN             AF            AFG   \n",
       "4             NaN           NaN           NaN             AF            AFG   \n",
       "\n",
       "   aggregation_level  \n",
       "0                  0  \n",
       "1                  0  \n",
       "2                  0  \n",
       "3                  1  \n",
       "4                  1  "
      ],
      "text/html": "<div>\n<style scoped>\n    .dataframe tbody tr th:only-of-type {\n        vertical-align: middle;\n    }\n\n    .dataframe tbody tr th {\n        vertical-align: top;\n    }\n\n    .dataframe thead th {\n        text-align: right;\n    }\n</style>\n<table border=\"1\" class=\"dataframe\">\n  <thead>\n    <tr style=\"text-align: right;\">\n      <th></th>\n      <th>key</th>\n      <th>place_id</th>\n      <th>wikidata</th>\n      <th>datacommons</th>\n      <th>country_code</th>\n      <th>country_name</th>\n      <th>subregion1_code</th>\n      <th>subregion1_name</th>\n      <th>subregion2_code</th>\n      <th>subregion2_name</th>\n      <th>locality_code</th>\n      <th>locality_name</th>\n      <th>3166-1-alpha-2</th>\n      <th>3166-1-alpha-3</th>\n      <th>aggregation_level</th>\n    </tr>\n  </thead>\n  <tbody>\n    <tr>\n      <th>0</th>\n      <td>AD</td>\n      <td>ChIJlfCemC71pRIRkn_qeNc-yQc</td>\n      <td>Q228</td>\n      <td>country/AND</td>\n      <td>AD</td>\n      <td>Andorra</td>\n      <td>NaN</td>\n      <td>NaN</td>\n      <td>NaN</td>\n      <td>NaN</td>\n      <td>NaN</td>\n      <td>NaN</td>\n      <td>AD</td>\n      <td>AND</td>\n      <td>0</td>\n    </tr>\n    <tr>\n      <th>1</th>\n      <td>AE</td>\n      <td>ChIJvRKrsd9IXj4RpwoIwFYv0zM</td>\n      <td>Q878</td>\n      <td>country/ARE</td>\n      <td>AE</td>\n      <td>United Arab Emirates</td>\n      <td>NaN</td>\n      <td>NaN</td>\n      <td>NaN</td>\n      <td>NaN</td>\n      <td>NaN</td>\n      <td>NaN</td>\n      <td>AE</td>\n      <td>ARE</td>\n      <td>0</td>\n    </tr>\n    <tr>\n      <th>2</th>\n      <td>AF</td>\n      <td>ChIJbQL_-LZu0TgReNqWvg1GtfM</td>\n      <td>Q889</td>\n      <td>country/AFG</td>\n      <td>AF</td>\n      <td>Afghanistan</td>\n      <td>NaN</td>\n      <td>NaN</td>\n      <td>NaN</td>\n      <td>NaN</td>\n      <td>NaN</td>\n      <td>NaN</td>\n      <td>AF</td>\n      <td>AFG</td>\n      <td>0</td>\n    </tr>\n    <tr>\n      <th>3</th>\n      <td>AF_BAL</td>\n      <td>ChIJWZOescNSyzgRkmVJ8fmfR3k</td>\n      <td>Q121104</td>\n      <td>NaN</td>\n      <td>AF</td>\n      <td>Afghanistan</td>\n      <td>BAL</td>\n      <td>Balkh</td>\n      <td>NaN</td>\n      <td>NaN</td>\n      <td>NaN</td>\n      <td>NaN</td>\n      <td>AF</td>\n      <td>AFG</td>\n      <td>1</td>\n    </tr>\n    <tr>\n      <th>4</th>\n      <td>AF_BAM</td>\n      <td>ChIJw-bKQwDr0jgRQiw8jHsQ-HI</td>\n      <td>Q171382</td>\n      <td>NaN</td>\n      <td>AF</td>\n      <td>Afghanistan</td>\n      <td>BAM</td>\n      <td>Bamyan</td>\n      <td>NaN</td>\n      <td>NaN</td>\n      <td>NaN</td>\n      <td>NaN</td>\n      <td>AF</td>\n      <td>AFG</td>\n      <td>1</td>\n    </tr>\n  </tbody>\n</table>\n</div>"
     },
     "metadata": {},
     "execution_count": 28
    }
   ],
   "source": [
    "df.head() # for index"
   ]
  }
 ]
}